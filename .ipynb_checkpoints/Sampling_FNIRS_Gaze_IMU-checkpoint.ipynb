{
 "cells": [
  {
   "cell_type": "code",
   "execution_count": 1,
   "id": "f01a1329",
   "metadata": {},
   "outputs": [],
   "source": [
    "import pandas as pd\n",
    "import numpy as np\n",
    "import json"
   ]
  },
  {
   "cell_type": "code",
   "execution_count": 2,
   "id": "01d3d3a0",
   "metadata": {},
   "outputs": [],
   "source": [
    "# Function to sample uniformly\n",
    "def uniform_sampling(group):\n",
    "    # Sort the group by seconds\n",
    "    group = group.sort_values(by='seconds')\n",
    "    \n",
    "    # Calculate the number of samples to take\n",
    "    num_samples = min(2000, len(group))\n",
    "    \n",
    "    # Sample uniformly spaced indices\n",
    "    indices = np.round(np.linspace(0, len(group) - 1, num_samples)).astype(int)\n",
    "    \n",
    "    # Select the rows using the sampled indices\n",
    "    sampled_data = group.iloc[indices]\n",
    "    \n",
    "    return sampled_data"
   ]
  },
  {
   "cell_type": "code",
   "execution_count": 3,
   "id": "d62124d0",
   "metadata": {},
   "outputs": [],
   "source": [
    "def np_encoder(object):\n",
    "    if isinstance(object, np.generic):\n",
    "        return object.item()\n"
   ]
  },
  {
   "cell_type": "code",
   "execution_count": 4,
   "id": "179cda4c",
   "metadata": {},
   "outputs": [
    {
     "ename": "FileNotFoundError",
     "evalue": "[Errno 2] No such file or directory: 'ocarina_biomeasures_classified_hemodynamics_seconds.json'",
     "output_type": "error",
     "traceback": [
      "\u001b[0;31m---------------------------------------------------------------------------\u001b[0m",
      "\u001b[0;31mFileNotFoundError\u001b[0m                         Traceback (most recent call last)",
      "Cell \u001b[0;32mIn[4], line 2\u001b[0m\n\u001b[1;32m      1\u001b[0m \u001b[38;5;66;03m# Load JSON data into a pandas DataFrame\u001b[39;00m\n\u001b[0;32m----> 2\u001b[0m \u001b[38;5;28;01mwith\u001b[39;00m \u001b[38;5;28;43mopen\u001b[39;49m\u001b[43m(\u001b[49m\u001b[38;5;124;43m'\u001b[39;49m\u001b[38;5;124;43mocarina_biomeasures_classified_hemodynamics_seconds.json\u001b[39;49m\u001b[38;5;124;43m'\u001b[39;49m\u001b[43m,\u001b[49m\u001b[43m \u001b[49m\u001b[38;5;124;43m'\u001b[39;49m\u001b[38;5;124;43mr\u001b[39;49m\u001b[38;5;124;43m'\u001b[39;49m\u001b[43m)\u001b[49m \u001b[38;5;28;01mas\u001b[39;00m file:\n\u001b[1;32m      3\u001b[0m     data \u001b[38;5;241m=\u001b[39m json\u001b[38;5;241m.\u001b[39mload(file)\n\u001b[1;32m      5\u001b[0m ocarina_df \u001b[38;5;241m=\u001b[39m pd\u001b[38;5;241m.\u001b[39mDataFrame(data)\n",
      "File \u001b[0;32m~/miniconda3/envs/deeplearning/lib/python3.9/site-packages/IPython/core/interactiveshell.py:286\u001b[0m, in \u001b[0;36m_modified_open\u001b[0;34m(file, *args, **kwargs)\u001b[0m\n\u001b[1;32m    279\u001b[0m \u001b[38;5;28;01mif\u001b[39;00m file \u001b[38;5;129;01min\u001b[39;00m {\u001b[38;5;241m0\u001b[39m, \u001b[38;5;241m1\u001b[39m, \u001b[38;5;241m2\u001b[39m}:\n\u001b[1;32m    280\u001b[0m     \u001b[38;5;28;01mraise\u001b[39;00m \u001b[38;5;167;01mValueError\u001b[39;00m(\n\u001b[1;32m    281\u001b[0m         \u001b[38;5;124mf\u001b[39m\u001b[38;5;124m\"\u001b[39m\u001b[38;5;124mIPython won\u001b[39m\u001b[38;5;124m'\u001b[39m\u001b[38;5;124mt let you open fd=\u001b[39m\u001b[38;5;132;01m{\u001b[39;00mfile\u001b[38;5;132;01m}\u001b[39;00m\u001b[38;5;124m by default \u001b[39m\u001b[38;5;124m\"\u001b[39m\n\u001b[1;32m    282\u001b[0m         \u001b[38;5;124m\"\u001b[39m\u001b[38;5;124mas it is likely to crash IPython. If you know what you are doing, \u001b[39m\u001b[38;5;124m\"\u001b[39m\n\u001b[1;32m    283\u001b[0m         \u001b[38;5;124m\"\u001b[39m\u001b[38;5;124myou can use builtins\u001b[39m\u001b[38;5;124m'\u001b[39m\u001b[38;5;124m open.\u001b[39m\u001b[38;5;124m\"\u001b[39m\n\u001b[1;32m    284\u001b[0m     )\n\u001b[0;32m--> 286\u001b[0m \u001b[38;5;28;01mreturn\u001b[39;00m \u001b[43mio_open\u001b[49m\u001b[43m(\u001b[49m\u001b[43mfile\u001b[49m\u001b[43m,\u001b[49m\u001b[43m \u001b[49m\u001b[38;5;241;43m*\u001b[39;49m\u001b[43margs\u001b[49m\u001b[43m,\u001b[49m\u001b[43m \u001b[49m\u001b[38;5;241;43m*\u001b[39;49m\u001b[38;5;241;43m*\u001b[39;49m\u001b[43mkwargs\u001b[49m\u001b[43m)\u001b[49m\n",
      "\u001b[0;31mFileNotFoundError\u001b[0m: [Errno 2] No such file or directory: 'ocarina_biomeasures_classified_hemodynamics_seconds.json'"
     ]
    }
   ],
   "source": [
    "# Load JSON data into a pandas DataFrame\n",
    "with open('ocarina_biomeasures_classified_hemodynamics_seconds.json', 'r') as file:\n",
    "    data = json.load(file)\n",
    "\n",
    "ocarina_df = pd.DataFrame(data)\n",
    "\n",
    "# Group by unique combinations of subject_id and trial_id\n",
    "ocarina_grouped = ocarina_df.groupby(['subject_id', 'trial_id'])\n",
    "\n",
    "\n",
    "# Apply uniform sampling to each group\n",
    "ocarina_sampled_df = ocarina_grouped.apply(uniform_sampling)\n",
    "\n",
    "# Reset index to remove hierarchical index\n",
    "ocarina_sampled_df.reset_index(drop=True, inplace=True)\n",
    "\n",
    "\n",
    "ocarina_sampled_df['subject_id'] = ocarina_sampled_df['subject_id'].astype(int)\n",
    "ocarina_sampled_df['trial_id'] = ocarina_sampled_df['trial_id'].astype(int)\n",
    "ocarina_sampled_df['timestamp'] = ocarina_sampled_df['timestamp'].astype(int)\n",
    "ocarina_sampled_df['workload_classification'] = ocarina_sampled_df['workload_classification'].astype(str)\n",
    "ocarina_sampled_df['workload_confidence'] = ocarina_sampled_df['workload_confidence'].astype(float)\n",
    "\n",
    "ocarina_sampled_df['attention_classification'] = ocarina_sampled_df['attention_classification'].astype(str)\n",
    "ocarina_sampled_df['attention_confidence'] = ocarina_sampled_df['attention_confidence'].astype(float)\n",
    "\n",
    "ocarina_sampled_df['perception_classification'] = ocarina_sampled_df['perception_classification'].astype(str)\n",
    "ocarina_sampled_df['perception_confidence'] = ocarina_sampled_df['perception_confidence'].astype(float)\n",
    "\n",
    "ocarina_sampled_df['seconds'] = ocarina_sampled_df['seconds'].astype(float)\n",
    "\n",
    "ocarina_sampled_df['workload_confidence'].fillna(0, inplace=True)\n",
    "ocarina_sampled_df['attention_confidence'].fillna(0, inplace=True)\n",
    "ocarina_sampled_df['perception_confidence'].fillna(0, inplace=True)"
   ]
  },
  {
   "cell_type": "code",
   "execution_count": 3,
   "id": "1b69f90a",
   "metadata": {},
   "outputs": [],
   "source": [
    "# Create the desired structure\n",
    "final_data = []\n",
    "for (subject_id, trial_id), group in ocarina_sampled_df.groupby(['subject_id', 'trial_id']):\n",
    "    obj = {\n",
    "        \"subject_id\": subject_id,\n",
    "        \"trial_id\": trial_id,\n",
    "        \"data\": group.drop(columns=['subject_id', 'trial_id']).to_dict(orient='records')\n",
    "    }\n",
    "    \n",
    "    \n",
    "    final_data.append(obj)\n",
    "\n",
    "# Output the final JSON structure to a file\n",
    "with open('FNIRS_sampled.json', 'w') as file:\n",
    "    json.dump(final_data, file, indent=4, default=np_encoder)"
   ]
  },
  {
   "cell_type": "code",
   "execution_count": 54,
   "id": "48f5b4b6",
   "metadata": {},
   "outputs": [],
   "source": [
    "gaze_df = pd.read_json('hl2_gaze_seconds.json')\n",
    "imu_df =  pd.read_json('hl2_imu_seconds.json')"
   ]
  },
  {
   "cell_type": "code",
   "execution_count": 9,
   "id": "6320e6e2",
   "metadata": {},
   "outputs": [],
   "source": [
    "gaze_df_grouped = gaze_df.groupby(['subject_id', 'trial_id'])\n",
    "\n",
    "gaze_df_sampled = gaze_df_grouped.apply(uniform_sampling)\n",
    "\n",
    "gaze_df_sampled.reset_index(drop=True, inplace=True)\n",
    "\n",
    "gaze_df_sampled.drop(['hit_x', 'hit_y', 'hit_z'], inplace=True, axis=1)\n",
    "\n",
    "gaze_df_sampled.to_csv(\"gaze_sampled.csv\", index=False)"
   ]
  },
  {
   "cell_type": "code",
   "execution_count": 7,
   "id": "22f2d096",
   "metadata": {},
   "outputs": [],
   "source": [
    "imu_df_grouped = imu_df.groupby(['subject_id', 'trial_id'])\n",
    "\n",
    "imu_df_sampled = imu_df_grouped.apply(uniform_sampling)\n",
    "\n",
    "imu_df_sampled.reset_index(drop=True, inplace=True)\n",
    "\n",
    "imu_df_sampled.drop(['orientation_covariance', 'angular_velocity_covariance', 'linear_acceleration_covariance', 'orientation_w' ], inplace=True, axis=1)\n",
    "\n",
    "imu_df_sampled.to_csv(\"imu_sampled.csv\", index= False)"
   ]
  },
  {
   "cell_type": "code",
   "execution_count": 15,
   "id": "ac95b15d",
   "metadata": {},
   "outputs": [
    {
     "data": {
      "text/plain": [
       "0.00   -294.300018\n",
       "0.01   -285.150024\n",
       "0.05   -280.950012\n",
       "0.10   -279.000000\n",
       "0.25   -276.000000\n",
       "0.50   -273.150024\n",
       "0.75   -269.850006\n",
       "0.90   -266.700012\n",
       "0.95   -264.750000\n",
       "0.99   -260.400024\n",
       "1.00   -237.750015\n",
       "Name: orientation_z, dtype: float64"
      ]
     },
     "execution_count": 15,
     "metadata": {},
     "output_type": "execute_result"
    }
   ],
   "source": [
    "imu_df_sampled['orientation_z'].quantile([0, 0.01,0.05 ,0.10, 0.25,0.5,0.75, 0.90, 0.95, 0.99, 1])"
   ]
  },
  {
   "cell_type": "code",
   "execution_count": 52,
   "id": "ad9cf4bc",
   "metadata": {},
   "outputs": [],
   "source": [
    "#fix erroneous seconds\n",
    "mask = (gaze_df_sampled['subject_id'] == 8708) & (gaze_df_sampled['trial_id'] == 4)\n",
    "\n",
    "# Subtract 83979.895 only from the selected rows\n",
    "gaze_df_sampled.loc[mask, 'seconds'] -= 83979.895\n",
    "gaze_df_sampled.to_csv(\"gaze_sampled.csv\", index=False)"
   ]
  },
  {
   "cell_type": "code",
   "execution_count": 56,
   "id": "9be47918",
   "metadata": {},
   "outputs": [],
   "source": [
    "#fix erroneous seconds\n",
    "mask = (imu_df_sampled['subject_id'] == 8708) & (imu_df_sampled['trial_id'] == 4)\n",
    "\n",
    "# Subtract 83979.895 only from the selected rows\n",
    "imu_df_sampled.loc[mask, 'seconds'] -= 83979.675\n",
    "imu_df_sampled.to_csv(\"imu_sampled.csv\", index=False)"
   ]
  },
  {
   "cell_type": "code",
   "execution_count": null,
   "id": "60a61f82",
   "metadata": {},
   "outputs": [],
   "source": []
  }
 ],
 "metadata": {
  "kernelspec": {
   "display_name": "Python 3 (ipykernel)",
   "language": "python",
   "name": "python3"
  },
  "language_info": {
   "codemirror_mode": {
    "name": "ipython",
    "version": 3
   },
   "file_extension": ".py",
   "mimetype": "text/x-python",
   "name": "python",
   "nbconvert_exporter": "python",
   "pygments_lexer": "ipython3",
   "version": "3.9.18"
  }
 },
 "nbformat": 4,
 "nbformat_minor": 5
}
